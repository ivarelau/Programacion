{
 "cells": [
  {
   "cell_type": "markdown",
   "metadata": {},
   "source": [
    "# NOTEBOOK 02 - Tipos de datos y Variables\n",
    "## Fundamentos de Programación: Tipos de Datos, Variables y Operaciones Básicas\n",
    "### Prof: Ing. Andrés Mena Abarca\n",
    "\n",
    "> ## Nombre del estudiante: Ismael Varela"
   ]
  },
  {
   "cell_type": "markdown",
   "metadata": {},
   "source": [
    "\n",
    "\n",
    "---\n",
    "\n",
    "## 1. Tipos de Datos en Python\n",
    "## **1. Introducción a los Tipos de Datos Básicos**\n",
    "\n",
    "### **Explicación:**\n",
    "En Python, los tipos de datos básicos son los bloques fundamentales para almacenar y manipular información. Estos tipos son:\n",
    "\n",
    "1. **`int` (Enteros):**\n",
    "   - Representan números enteros, positivos o negativos.\n",
    "   - Ejemplos: `5`, `-10`, `1000`.\n",
    "   - No tienen límite de tamaño (dependen de la memoria disponible).\n",
    "\n",
    "2. **`float` (Decimales):**\n",
    "   - Representan números con parte decimal.\n",
    "   - Ejemplos: `3.14`, `-0.001`, `2.0`.\n",
    "   - Se almacenan con una precisión limitada (aproximadamente 15 decimales).\n",
    "\n",
    "3. **`str` (Cadenas de Texto):**\n",
    "   - Representan secuencias de caracteres.\n",
    "   - Se definen entre comillas simples (`'Hola'`) o dobles (`\"Python\"`).\n",
    "   - Son inmutables (no se pueden modificar después de crearse).\n",
    "\n",
    "4. **`bool` (Booleanos):**\n",
    "   - Representan valores lógicos: `True` (verdadero) o `False` (falso).\n",
    "   - Se usan en condiciones y operaciones lógicas.\n",
    "\n",
    "### **Práctica:**\n",
    "\n",
    "```python\n",
    "# Declara variables de cada tipo\n",
    "edad = 25  # int\n",
    "altura = 1.75  # float\n",
    "nombre = \"Ana\"  # str\n",
    "es_estudiante = True  # bool\n",
    "\n",
    "# Muestra el tipo de cada variable usando la función type()\n",
    "print(type(edad))  # <class 'int'>\n",
    "print(type(altura))  # <class 'float'>\n",
    "print(type(nombre))  # <class 'str'>\n",
    "print(type(es_estudiante))  # <class 'bool'>\n",
    "\n",
    "## Ejercicios \n",
    "\n",
    "1. Declara una variable de tipo entero y asigna el valor *25*. Luego, imprime su tipo."
   ]
  },
  {
   "cell_type": "code",
   "execution_count": null,
   "metadata": {},
   "outputs": [],
   "source": [
    "#Respueta\n",
    "edad = 15\n",
    "altura = 1.85\n",
    "nombre = 'Ismael'\n",
    "es_estudiante = True\n",
    "\n",
    "  print(f\"Mi nombre es {nombre}, mido {altura}, tengo{edad} años, soy estudiante {es_estudiante}\")\n",
    "\n",
    "  print(type(edad))\n",
    "  print(type(altura))\n",
    "  print(type(nombre))\n",
    "  print(type(es_estudiante))"
   ]
  },
  {
   "cell_type": "markdown",
   "metadata": {},
   "source": [
    "2. Declara una variable de tipo flotante con el valor *3.1416*. Imprime su tipo.\n"
   ]
  },
  {
   "cell_type": "code",
   "execution_count": 98,
   "metadata": {},
   "outputs": [
    {
     "name": "stdout",
     "output_type": "stream",
     "text": [
      "Valor de pI 425.0\n",
      "<class 'float'>\n"
     ]
    }
   ],
   "source": [
    "#Respuesta\n",
    "pi = float(input(\"ingrese el valor de pI: \"))\n",
    "\n",
    "print(f\"Valor de pI\", pi)\n",
    "\n",
    "print(type(pi))"
   ]
  },
  {
   "cell_type": "markdown",
   "metadata": {},
   "source": [
    "3. Crea una variable es_estudiante que almacene un valor booleano indicando si eres estudiante."
   ]
  },
  {
   "cell_type": "code",
   "execution_count": 92,
   "metadata": {},
   "outputs": [
    {
     "ename": "SyntaxError",
     "evalue": "invalid syntax. Perhaps you forgot a comma? (3881459207.py, line 2)",
     "output_type": "error",
     "traceback": [
      "  \u001b[36mCell\u001b[39m\u001b[36m \u001b[39m\u001b[32mIn[92]\u001b[39m\u001b[32m, line 2\u001b[39m\n\u001b[31m    \u001b[39m\u001b[31mes_estudiante = (bool(input('soy estudiante' True/False)))\u001b[39m\n                                ^\n\u001b[31mSyntaxError\u001b[39m\u001b[31m:\u001b[39m invalid syntax. Perhaps you forgot a comma?\n"
     ]
    }
   ],
   "source": [
    "#Respuesta\n",
    "es_estudiante = (bool(input('soy estudiante' True/False)))\n",
    "\n",
    "print(True(\"esudiante\"))\n",
    "print(False(\"no es estudiante\"))\n",
    "\n",
    "print(type(es_estudiante))"
   ]
  },
  {
   "cell_type": "markdown",
   "metadata": {},
   "source": [
    "## 2. Variables en Python\n",
    "\n",
    "### Teoría\n",
    "Las variables son espacios de memoria donde almacenamos datos. En Python, no es necesario declarar el tipo de la variable, simplemente se asigna un valor con el símbolo `=`.\n",
    "\n",
    "#### Reglas para nombrar variables:\n",
    "- Deben comenzar con una letra o un guion bajo.\n",
    "- No pueden comenzar con un número.\n",
    "- Solo pueden contener letras, números y guiones bajos.\n",
    "- Son sensibles a mayúsculas y minúsculas (`nombre` y `Nombre` son diferentes).\n",
    "\n",
    "### Ejemplo"
   ]
  },
  {
   "cell_type": "code",
   "execution_count": null,
   "metadata": {},
   "outputs": [],
   "source": [
    "# Declaración de variables\n",
    "mi_nombre = \"Carlos\"\n",
    "edad = 20\n",
    "\n",
    "# Variables válidas\n",
    "nombre_completo = \"Ana Pérez\"\n",
    "_variable_secreta = 42 # convención para indicar que esa variable es protegida.\n",
    "\n",
    "# Variables inválidas (descomentar para ver los errores)\n",
    "2variable = 10  # Error: no puede comenzar con un número\n",
    "nombre completo = \"Juan\"  # Error: no puede contener espacios"
   ]
  },
  {
   "cell_type": "markdown",
   "metadata": {},
   "source": [
    "## 3. Operaciones Básicas de Entrada y Salida\n",
    "\n",
    "### Teoría\n",
    "Las operaciones de entrada y salida son fundamentales para interactuar con el usuario. En Python, utilizamos la función `input()` para capturar datos del usuario y `print()` para mostrar información en pantalla.\n",
    "\n",
    "### Ejemplos"
   ]
  },
  {
   "cell_type": "code",
   "execution_count": null,
   "metadata": {},
   "outputs": [],
   "source": [
    "# Operación de salida\n",
    "print(\"¡Hola, mundo!\")\n",
    "\n",
    "nombre = input(\"Ingrese su nombre: \")\n",
    "\n",
    "print(f\"Su nombre es {nombre}\")\n",
    "\n",
    "\n",
    "# Operación de entrada + Saalida con format\n"
   ]
  },
  {
   "cell_type": "markdown",
   "metadata": {},
   "source": [
    "En otros lenguajes, como *Java*, el proceso es similar pero con algunas diferencias en la sintaxis:\n",
    "\n",
    "```Java\n",
    "// Ejemplo en Java\n",
    "import java.util.Scanner;\n",
    "\n",
    "public class EntradaSalida {\n",
    "    public static void main(String[] args) {\n",
    "        Scanner input = new Scanner(System.in);\n",
    "        System.out.print(\"¿Cómo te llamas? \");\n",
    "        String nombre = input.nextLine();\n",
    "        System.out.println(\"Hola, \" + nombre + \"!\");\n",
    "    }\n",
    "}\n",
    "\n",
    "```"
   ]
  },
  {
   "cell_type": "markdown",
   "metadata": {},
   "source": [
    "## 4. Operadores Básicos en Python\n",
    "\n",
    "### Teoría\n",
    "Los operadores en Python nos permiten realizar diversas operaciones con variables y datos. Los más comunes son:\n",
    "\n",
    "- **Operadores matemáticos**: `+`, `-`, `*`, `/`, `//` (división entera), `%` (módulo)\n",
    "- **Operadores de asignación**: `=`, `+=`, `-=`, `*=`, `/=`\n",
    "- **Operadores de comparación**: `==`, `!=`, `<`, `>`, `<=`, `>=`\n",
    "- **Operadores lógicos**: `and`, `or`, `not`\n",
    "\n",
    "### Tabla de Operadores Matemáticos\n",
    "\n",
    "| Operador | Descripción           | Ejemplo           |\n",
    "|----------|-----------------------|-------------------|\n",
    "| `+`      | Suma                  | `5 + 3 = 8`       |\n",
    "| `-`      | Resta                 | `5 - 2 = 3`       |\n",
    "| `*`      | Multiplicación         | `5 * 2 = 10`      |\n",
    "| `/`      | División              | `10 / 2 = 5.0`    |\n",
    "| `//`     | División entera        | `10 // 3 = 3`     |\n",
    "| `%`      | Módulo (resto)         | `10 % 3 = 1`      |\n",
    "\n",
    "### Ejemplos"
   ]
  },
  {
   "cell_type": "markdown",
   "metadata": {},
   "source": [
    "#### Problema 1: Operadores Matemáticos y Comparación en Python\n",
    "\n",
    "Tienes dos variables `a = 10` y `b = 5`. Realiza las siguientes operaciones matemáticas:"
   ]
  },
  {
   "cell_type": "code",
   "execution_count": null,
   "metadata": {},
   "outputs": [
    {
     "name": "stdout",
     "output_type": "stream",
     "text": [
      "la suma de a + b es igual:  15\n",
      "la resta de a - b es igual:  5\n",
      "la multiplicacion de a * b es igual:  50\n",
      "la division de a / b es igual:  2.0\n",
      "la diviion entera de a // b es igual:  2\n",
      "la modulo de a % b es igual:  0\n"
     ]
    }
   ],
   "source": [
    "# Asignacón de variables\n",
    "a = 10\n",
    "b = 5\n",
    "# Suma y resta\n",
    "suma = a + b \n",
    "print('la suma de a + b es igual: ',suma)\n",
    "\n",
    "#resta\n",
    "resta = a - b \n",
    "print('la resta de a - b es igual: ',resta)\n",
    "\n",
    "multiplicacion = a * b \n",
    "print('la multiplicacion de a * b es igual: ',multiplicacion)\n",
    "\n",
    "\n",
    "division = a / b \n",
    "print('la division de a / b es igual: ',division)\n",
    "\n",
    "\n",
    "division_entera = a // b \n",
    "print('la diviion entera de a // b es igual: ',division_entera)\n",
    "\n",
    "\n",
    "modulo = a % b \n",
    "print('la modulo de a % b es igual: ',modulo)\n",
    "\n",
    "\n",
    "\n",
    "\n"
   ]
  },
  {
   "cell_type": "markdown",
   "metadata": {},
   "source": [
    "#### Práctica:\n",
    "> Función para calcular el área de un círculo:"
   ]
  },
  {
   "cell_type": "code",
   "execution_count": null,
   "metadata": {},
   "outputs": [
    {
     "name": "stdout",
     "output_type": "stream",
     "text": [
      "El area del circulo 706.86 por el valor del radio 15.0 que ingreso el usuario\n",
      "<class 'float'>\n"
     ]
    }
   ],
   "source": [
    "#Construir función\n",
    "pi = 3.1416\n",
    "\n",
    "radio = (float(input(\"ingrese el radio: \")))\n",
    "\n",
    "area_de_circulo = pi * radio**2\n",
    "print(f\"El area del circulo {area_de_circulo} por el valor del radio {radio} que ingreso el usuario\")\n",
    "\n",
    "\n",
    "print(type(radio))"
   ]
  },
  {
   "cell_type": "markdown",
   "metadata": {},
   "source": [
    "#### Problema 2: Comparación de Números\n",
    "Usa los siguientes operadores de comparación para verificar la relación entre a y b. ¿Qué resultado esperas?"
   ]
  },
  {
   "cell_type": "code",
   "execution_count": null,
   "metadata": {},
   "outputs": [
    {
     "name": "stdout",
     "output_type": "stream",
     "text": [
      "False\n",
      "False\n",
      "True\n",
      "True\n"
     ]
    }
   ],
   "source": [
    "# Operadores de comparación\n",
    "a = 10\n",
    "b = 12\n",
    "\n",
    "# ¿Es a igual a b?\n",
    "print(a == b)\n",
    "\n",
    "# ¿Es a mayor que b?\n",
    "print(a > b)\n",
    "\n",
    "# ¿Es a menor que b?\n",
    "print(a < b)\n",
    "#diferente\n",
    "print(a != b)"
   ]
  },
  {
   "cell_type": "markdown",
   "metadata": {},
   "source": [
    "### Problema 3: Operadores Lógicos\n",
    "Usa operadores lógicos para combinar condiciones. Resuelve el siguiente problema: ¿Es a mayor que 0 y b menor que 10? \n",
    "\n",
    "- ¿Qué pasa si a = -10?"
   ]
  },
  {
   "cell_type": "code",
   "execution_count": null,
   "metadata": {},
   "outputs": [
    {
     "name": "stdout",
     "output_type": "stream",
     "text": [
      "False\n"
     ]
    }
   ],
   "source": [
    "# Ejemplo: Operador lógico AND (usuario y contraseña)\n",
    "\n",
    "# Datos correctos (simulando una base de datos)\n",
    "usuario_correcto = \"admin\"\n",
    "contraseña_correcta = \"1234\"\n",
    "\n",
    "usuario = input(\"Ingrese el usuario: \")\n",
    "contrasena = input(\"Ingrese la contraseña: \")\n",
    "\n",
    "\n",
    "print(usuario == usuario_correcto and contrasena == contraseña_correcta)\n"
   ]
  },
  {
   "cell_type": "code",
   "execution_count": null,
   "metadata": {},
   "outputs": [
    {
     "name": "stdout",
     "output_type": "stream",
     "text": [
      "True\n",
      "True\n",
      "True\n",
      "False\n"
     ]
    }
   ],
   "source": [
    "# Ejemplo: Operador lógico OR\n",
    "papa = True\n",
    "mama = True\n",
    "# Preguntar si mamá o papá dan permiso\n",
    "print(papa or mama)\n",
    "\n",
    "\n",
    "papa = False\n",
    "mama = True\n",
    "\n",
    "print(papa or mama)\n",
    "\n",
    "papa = True\n",
    "mama = False\n",
    "\n",
    "print(papa or mama)\n",
    "\n",
    "papa = False\n",
    "mama = False\n",
    "\n",
    "print(papa or mama)\n",
    "\n",
    "\n",
    "\n"
   ]
  },
  {
   "cell_type": "code",
   "execution_count": null,
   "metadata": {},
   "outputs": [],
   "source": [
    "# ¿Ambas condiciones son verdaderas?\n",
    "\n",
    "# ¿Al menos una de las condiciones es verdadera?\n",
    "\n",
    "# ¿Es falso que a sea mayor que b?\n"
   ]
  },
  {
   "cell_type": "markdown",
   "metadata": {},
   "source": [
    "### Problema 4: Divisiones y Módulo\n",
    "Prueba las operaciones de división entera y módulo para ver cómo Python maneja los restos de las divisiones."
   ]
  },
  {
   "cell_type": "code",
   "execution_count": null,
   "metadata": {},
   "outputs": [
    {
     "name": "stdout",
     "output_type": "stream",
     "text": [
      "5.5\n",
      "5\n",
      "1\n"
     ]
    }
   ],
   "source": [
    "# División entera y módulo\n",
    "print(11 / 2) #División \n",
    "\n",
    "print(11 // 2) #División entera\n",
    "\n",
    "print(11 % 2) #División módulo"
   ]
  },
  {
   "cell_type": "code",
   "execution_count": null,
   "metadata": {},
   "outputs": [
    {
     "name": "stdout",
     "output_type": "stream",
     "text": [
      "0.0\n"
     ]
    }
   ],
   "source": [
    "# Función para verificar si un número es par\n",
    "par = True\n",
    "impar = False\n",
    "\n",
    "numero = float(input(\"ingres un número par\" ))\n",
    "\n",
    "print(numero % 2 )\n",
    "\n",
    "\n"
   ]
  },
  {
   "cell_type": "markdown",
   "metadata": {
    "vscode": {
     "languageId": "powershell"
    }
   },
   "source": [
    "### 5. Conversión entre Tipos de Datos\n",
    "Python permite convertir entre tipos de datos usando funciones como:\n",
    "\n",
    "- `int()`: Convierte a entero.\n",
    "- `float()`: Convierte a decimal.\n",
    "- `str():` Convierte a cadena.\n",
    "- `bool()`: Convierte a booleano."
   ]
  },
  {
   "cell_type": "code",
   "execution_count": null,
   "metadata": {},
   "outputs": [],
   "source": [
    "# Conversión de tipos\n"
   ]
  },
  {
   "cell_type": "code",
   "execution_count": null,
   "metadata": {},
   "outputs": [],
   "source": [
    "# Conversión de cadenas a números"
   ]
  },
  {
   "cell_type": "markdown",
   "metadata": {},
   "source": [
    "### Ejercicio Final:\n",
    "\n",
    "Combina operadores matemáticos, de comparación y lógicos. Escribe un programa que pida al usuario dos números y realice las siguientes tareas:\n",
    "\n",
    "1. Verifique si el primer número es mayor que el segundo.\n",
    "2. Calcule la suma, resta, división y módulo de ambos.\n",
    "3. Determine si la suma de ambos números es mayor que 20 **y** si alguno de los dos es menor que 5."
   ]
  },
  {
   "cell_type": "code",
   "execution_count": null,
   "metadata": {},
   "outputs": [
    {
     "name": "stdout",
     "output_type": "stream",
     "text": [
      "False\n",
      "suma 29\n",
      "resta -9\n",
      "division 0.5263157894736842\n",
      "módulo 10\n",
      "Es mayor 25\n",
      "Es mayor que 5 4\n"
     ]
    }
   ],
   "source": [
    "#Ejercicio 1: Verifique si el primer número es mayor que el segundo.\n",
    "num1 = (int(input(\"Ingrese un número: \")))\n",
    "num2 = (int(input(\"Ingrese un número: \")))\n",
    "\n",
    "print(num1 > num2)\n",
    "\n",
    "#Ejercicio 2: Calcule la suma, resta, división y módulo de ambos.\n",
    "print(\"suma\", num1 + num2)\n",
    "print(\"resta\", num1 - num2)\n",
    "print(\"division\", num1 / num2)\n",
    "print(\"módulo\", num1 % num2)\n",
    "\n",
    "#Ejercicio 3: Determine si la suma de ambos números es mayor que 20 **y** si alguno de los dos es menor que 5.\n",
    "num1 = (int(input(\"Ingrese un número\")))\n",
    "num2 = (int(input(\"Ingrese un número\")))\n",
    "\n",
    "if num1 + num2 > 20 :\n",
    "  print(\"Es mayor\", num1 + num2)\n",
    "\n",
    "else :\n",
    "  print(\"Es menor\", num1 + num2)\n",
    "\n",
    "if num1 == num2 < 5 :\n",
    "  print(\"Es menor que 5\", num1 + num2)\n",
    "\n",
    "else:\n",
    "  print(\"Es mayor que 5\", num2)"
   ]
  }
 ],
 "metadata": {
  "kernelspec": {
   "display_name": "Python 3",
   "language": "python",
   "name": "python3"
  },
  "language_info": {
   "codemirror_mode": {
    "name": "ipython",
    "version": 3
   },
   "file_extension": ".py",
   "mimetype": "text/x-python",
   "name": "python",
   "nbconvert_exporter": "python",
   "pygments_lexer": "ipython3",
   "version": "3.13.3"
  }
 },
 "nbformat": 4,
 "nbformat_minor": 2
}
